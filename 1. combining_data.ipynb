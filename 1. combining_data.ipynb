{
 "cells": [
  {
   "cell_type": "code",
   "execution_count": 3,
   "id": "5296287f-b614-4ba6-bde7-a86224ad744d",
   "metadata": {},
   "outputs": [
    {
     "name": "stdout",
     "output_type": "stream",
     "text": [
      "C:\\Users\\emmad\\OneDrive - University of Leeds\\leeds admin\\chem\\3650\\coding\n"
     ]
    }
   ],
   "source": [
    "import pandas as pd\n",
    "import os\n",
    "print(os.getcwd())"
   ]
  },
  {
   "cell_type": "code",
   "execution_count": 5,
   "id": "eb319a09-7c72-4648-8c7b-35d80fe03f24",
   "metadata": {},
   "outputs": [
    {
     "name": "stdout",
     "output_type": "stream",
     "text": [
      "          ID                                        solute_name  \\\n",
      "0     ID0001                                 (-)-levonorgestrel   \n",
      "1     ID0002                                 (-)-levonorgestrel   \n",
      "2     ID0003         (1-diethylamino-1-oxopropan-2-yl) benzoate   \n",
      "3     ID0004        (1,1-dioxido-1,2-thiazinan-2-yl)acetic acid   \n",
      "4     ID0005  (1,2-dibromo-2,2-dichloroethyl) dimethyl phosp...   \n",
      "...      ...                                                ...   \n",
      "8557  ID8686                                       trimethoprim   \n",
      "8558  ID8687                                       trimethoprim   \n",
      "8559  ID8688                                       trimethoprim   \n",
      "8560  ID8689                                       trimethoprim   \n",
      "8561  ID8690                                       trimethoprim   \n",
      "\n",
      "                                          solute_smiles solvent_name  \\\n",
      "0     O=C4\\C=C3/[C@@H]([C@H]2CC[C@]1([C@@H](CC[C@]1(...    1-octanol   \n",
      "1     O=C4\\C=C3/[C@@H]([C@H]2CC[C@]1([C@@H](CC[C@]1(...    1-octanol   \n",
      "2                      C(=O)(C(OC(=O)c1ccccc1)C)N(CC)CC        water   \n",
      "3                             S1(=O)(=O)N(CC(=O)O)CCCC1        water   \n",
      "4                          BrC(Cl)(Cl)C(Br)OP(=O)(OC)OC        water   \n",
      "...                                                 ...          ...   \n",
      "8557                O(C)c1c(OC)cc(Cc2c(N)nc(N)nc2)cc1OC      ethanol   \n",
      "8558                O(C)c1c(OC)cc(Cc2c(N)nc(N)nc2)cc1OC    1-butanol   \n",
      "8559                O(C)c1c(OC)cc(Cc2c(N)nc(N)nc2)cc1OC     methanol   \n",
      "8560                O(C)c1c(OC)cc(Cc2c(N)nc(N)nc2)cc1OC          THF   \n",
      "8561                O(C)c1c(OC)cc(Cc2c(N)nc(N)nc2)cc1OC   1-pentanol   \n",
      "\n",
      "     solvent_smiles              solute_inchikey       S_M      LogS       MW  \n",
      "0         OCCCCCCCC  WWYNJERNGUHSAO-XUDSTZEENA-N  0.014791 -1.830000  312.453  \n",
      "1         OCCCCCCCC  WWYNJERNGUHSAO-XUDSTZEENA-N  0.014791 -1.830000  312.453  \n",
      "2                 O  BZZFPIRKNVWTKJ-UHFFFAOYNA-N  0.008017 -2.096000  249.310  \n",
      "3                 O  HQKJYAGNQSMRJK-FZOZFQFYNA-N  0.260016 -0.585000  193.224  \n",
      "4                 O  BUYMVQAILCEWRR-UHFFFAOYNA-N  0.005248 -2.280000  380.784  \n",
      "...             ...                          ...       ...       ...      ...  \n",
      "8557            OCC  IEDVJHCEMCRBQM-CLRGVMNRNA-N  0.014788 -1.830096  290.323  \n",
      "8558          OCCCC  IEDVJHCEMCRBQM-CLRGVMNRNA-N  0.008571 -2.066972  290.323  \n",
      "8559             OC  IEDVJHCEMCRBQM-CLRGVMNRNA-N  0.054022 -1.267431  290.323  \n",
      "8560        O1CCCC1  IEDVJHCEMCRBQM-CLRGVMNRNA-N  0.016259 -1.788912  290.323  \n",
      "8561         OCCCCC  IEDVJHCEMCRBQM-CLRGVMNRNA-N  0.007688 -2.114210  290.323  \n",
      "\n",
      "[8562 rows x 9 columns]\n"
     ]
    }
   ],
   "source": [
    "#read BSc data file and name it 'df1'\n",
    "\n",
    "df1 = pd.read_csv(\"cross_solvent_solubility_dataset_BSc_2024.csv\")\n",
    "\n",
    "print(df1)"
   ]
  },
  {
   "cell_type": "code",
   "execution_count": 7,
   "id": "a41cd7c1-0b94-46ee-8839-c5c2f5d9ec0d",
   "metadata": {},
   "outputs": [],
   "source": [
    "#define LogS\n",
    "\n",
    "logS = df1[\"LogS\"]"
   ]
  },
  {
   "cell_type": "code",
   "execution_count": 9,
   "id": "2ab32e28-2405-426b-831e-c80f9db4c766",
   "metadata": {},
   "outputs": [],
   "source": [
    "#replace logS with logS_M\n",
    "\n",
    "df1.rename(columns={\"LogS\": \"logS_M\"}, inplace=True)"
   ]
  },
  {
   "cell_type": "code",
   "execution_count": 11,
   "id": "8b3a6421-74b2-4c66-8d05-af8fa7fae236",
   "metadata": {},
   "outputs": [],
   "source": [
    "# Remove the 'ID' column from the DataFrame\n",
    "df1.drop(columns=['ID'], inplace=True)"
   ]
  },
  {
   "cell_type": "code",
   "execution_count": 13,
   "id": "faa11d72-7377-41e6-a2a2-0dabccde19d4",
   "metadata": {},
   "outputs": [
    {
     "name": "stdout",
     "output_type": "stream",
     "text": [
      "                                            solute_name  \\\n",
      "0                                    (-)-levonorgestrel   \n",
      "1                                    (-)-levonorgestrel   \n",
      "2            (1-diethylamino-1-oxopropan-2-yl) benzoate   \n",
      "3           (1,1-dioxido-1,2-thiazinan-2-yl)acetic acid   \n",
      "4     (1,2-dibromo-2,2-dichloroethyl) dimethyl phosp...   \n",
      "...                                                 ...   \n",
      "9725                                           xanthine   \n",
      "9726                                           xanthine   \n",
      "9727                                       xanthopterin   \n",
      "9728                                                XMC   \n",
      "9729                                       ZINC02631261   \n",
      "\n",
      "                                          solute_smiles  \\\n",
      "0     O=C4\\C=C3/[C@@H]([C@H]2CC[C@]1([C@@H](CC[C@]1(...   \n",
      "1     O=C4\\C=C3/[C@@H]([C@H]2CC[C@]1([C@@H](CC[C@]1(...   \n",
      "2                      C(=O)(C(OC(=O)c1ccccc1)C)N(CC)CC   \n",
      "3                             S1(=O)(=O)N(CC(=O)O)CCCC1   \n",
      "4                          BrC(Cl)(Cl)C(Br)OP(=O)(OC)OC   \n",
      "...                                                 ...   \n",
      "9725                             c1[nH]c2c(n1)nc(nc2O)O   \n",
      "9726                             c1[nH]c2c(n1)nc(nc2O)O   \n",
      "9727                       C21=C(N=C(NC1=O)N)N=CC(=O)N2   \n",
      "9728                           N(C)C(=O)Oc1cc(cc(c1)C)C   \n",
      "9729            N1(C(=O)C(=C(N1C)C)NC(=O)NCCCC)c2ccccc2   \n",
      "\n",
      "                solvent_name                    solvent_smiles  \\\n",
      "0                  1-octanol                         OCCCCCCCC   \n",
      "1                  1-octanol                         OCCCCCCCC   \n",
      "2                      water                                 O   \n",
      "3                      water                                 O   \n",
      "4                      water                                 O   \n",
      "...                      ...                               ...   \n",
      "9725  PEG400/water(75:25)vol  O(CCOCCOCCO)CCOCCOCCOCCOCCOCCO.O   \n",
      "9726                   water                                 O   \n",
      "9727                   water                                 O   \n",
      "9728                   water                                 O   \n",
      "9729                   water                                 O   \n",
      "\n",
      "                           solute_inchikey       S_M        logS_M  MP_C  MW  \n",
      "0     InChIKey=WWYNJERNGUHSAO-XUDSTZEENA-N  0.014791  -1.829999997   NaN NaN  \n",
      "1     InChIKey=WWYNJERNGUHSAO-XUDSTZEENA-N  0.014791  -1.829999997   NaN NaN  \n",
      "2     InChIKey=BZZFPIRKNVWTKJ-UHFFFAOYNA-N  0.008017   -2.09599998   NaN NaN  \n",
      "3     InChIKey=HQKJYAGNQSMRJK-FZOZFQFYNA-N  0.260016  -0.585000001   NaN NaN  \n",
      "4     InChIKey=BUYMVQAILCEWRR-UHFFFAOYNA-N  0.005248  -2.279999967   NaN NaN  \n",
      "...                                    ...       ...           ...   ...  ..  \n",
      "9725  InChIKey=LRFVTYWOQMYALW-QMXMOWLQNA-N  0.000451  -3.345999715   NaN NaN  \n",
      "9726  InChIKey=LRFVTYWOQMYALW-QMXMOWLQNA-N  0.000135  -3.871000114   NaN NaN  \n",
      "9727  InChIKey=VURKRJGMSKJIQX-BZZNGZMBNA-N  0.000140   -3.85499949   NaN NaN  \n",
      "9728  InChIKey=CVQODEWAPZVVBU-WXRBYKJCNA-N  0.002630  -2.579999999   NaN NaN  \n",
      "9729  InChIKey=PQFDUCZWWSHNBL-JLGFQASFNA-N  0.023496  -1.629000004   NaN NaN  \n",
      "\n",
      "[9730 rows x 9 columns]\n"
     ]
    }
   ],
   "source": [
    "#read basf file and name it df2\n",
    "\n",
    "df2 = pd.read_csv(\"basf_inchi_logS.csv\")\n",
    "\n",
    "print(df2)"
   ]
  },
  {
   "cell_type": "code",
   "execution_count": 15,
   "id": "bf34bb94-3904-4137-9a10-26279c4415b3",
   "metadata": {},
   "outputs": [],
   "source": [
    "#define solute inchikey column\n",
    "\n",
    "solute_inchikey = df2[\"solute_inchikey\"]"
   ]
  },
  {
   "cell_type": "code",
   "execution_count": 17,
   "id": "fa97f01b-b761-4015-b884-a51a443cf905",
   "metadata": {},
   "outputs": [
    {
     "name": "stdout",
     "output_type": "stream",
     "text": [
      "0       WWYNJERNGUHSAO-XUDSTZEENA-N\n",
      "1       WWYNJERNGUHSAO-XUDSTZEENA-N\n",
      "2       BZZFPIRKNVWTKJ-UHFFFAOYNA-N\n",
      "3       HQKJYAGNQSMRJK-FZOZFQFYNA-N\n",
      "4       BUYMVQAILCEWRR-UHFFFAOYNA-N\n",
      "                   ...             \n",
      "9725    LRFVTYWOQMYALW-QMXMOWLQNA-N\n",
      "9726    LRFVTYWOQMYALW-QMXMOWLQNA-N\n",
      "9727    VURKRJGMSKJIQX-BZZNGZMBNA-N\n",
      "9728    CVQODEWAPZVVBU-WXRBYKJCNA-N\n",
      "9729    PQFDUCZWWSHNBL-JLGFQASFNA-N\n",
      "Name: solute_inchikey, Length: 9730, dtype: object\n"
     ]
    }
   ],
   "source": [
    "#remove inchikey from the solute_inchikey column\n",
    "\n",
    "solute_inchikey_edited = solute_inchikey.str.replace(\"InChIKey=\", \"\", regex=False)\n",
    "\n",
    "print(solute_inchikey_edited)"
   ]
  },
  {
   "cell_type": "code",
   "execution_count": 19,
   "id": "2690adbf-4a75-4c64-945c-f053f9ba3842",
   "metadata": {},
   "outputs": [],
   "source": [
    "#replace the column in the data2\n",
    "\n",
    "df2[\"solute_inchikey\"] = solute_inchikey_edited"
   ]
  },
  {
   "cell_type": "code",
   "execution_count": 21,
   "id": "0fda1235-902c-439a-a16d-d528b0a9e9aa",
   "metadata": {},
   "outputs": [
    {
     "name": "stdout",
     "output_type": "stream",
     "text": [
      "                                            solute_name  \\\n",
      "0                                    (-)-levonorgestrel   \n",
      "1                                    (-)-levonorgestrel   \n",
      "2            (1-diethylamino-1-oxopropan-2-yl) benzoate   \n",
      "3           (1,1-dioxido-1,2-thiazinan-2-yl)acetic acid   \n",
      "4     (1,2-dibromo-2,2-dichloroethyl) dimethyl phosp...   \n",
      "...                                                 ...   \n",
      "9725                                           xanthine   \n",
      "9726                                           xanthine   \n",
      "9727                                       xanthopterin   \n",
      "9728                                                XMC   \n",
      "9729                                       ZINC02631261   \n",
      "\n",
      "                                          solute_smiles  \\\n",
      "0     O=C4\\C=C3/[C@@H]([C@H]2CC[C@]1([C@@H](CC[C@]1(...   \n",
      "1     O=C4\\C=C3/[C@@H]([C@H]2CC[C@]1([C@@H](CC[C@]1(...   \n",
      "2                      C(=O)(C(OC(=O)c1ccccc1)C)N(CC)CC   \n",
      "3                             S1(=O)(=O)N(CC(=O)O)CCCC1   \n",
      "4                          BrC(Cl)(Cl)C(Br)OP(=O)(OC)OC   \n",
      "...                                                 ...   \n",
      "9725                             c1[nH]c2c(n1)nc(nc2O)O   \n",
      "9726                             c1[nH]c2c(n1)nc(nc2O)O   \n",
      "9727                       C21=C(N=C(NC1=O)N)N=CC(=O)N2   \n",
      "9728                           N(C)C(=O)Oc1cc(cc(c1)C)C   \n",
      "9729            N1(C(=O)C(=C(N1C)C)NC(=O)NCCCC)c2ccccc2   \n",
      "\n",
      "                solvent_name                    solvent_smiles  \\\n",
      "0                  1-octanol                         OCCCCCCCC   \n",
      "1                  1-octanol                         OCCCCCCCC   \n",
      "2                      water                                 O   \n",
      "3                      water                                 O   \n",
      "4                      water                                 O   \n",
      "...                      ...                               ...   \n",
      "9725  PEG400/water(75:25)vol  O(CCOCCOCCO)CCOCCOCCOCCOCCOCCO.O   \n",
      "9726                   water                                 O   \n",
      "9727                   water                                 O   \n",
      "9728                   water                                 O   \n",
      "9729                   water                                 O   \n",
      "\n",
      "                  solute_inchikey       S_M        logS_M  MW  \n",
      "0     WWYNJERNGUHSAO-XUDSTZEENA-N  0.014791  -1.829999997 NaN  \n",
      "1     WWYNJERNGUHSAO-XUDSTZEENA-N  0.014791  -1.829999997 NaN  \n",
      "2     BZZFPIRKNVWTKJ-UHFFFAOYNA-N  0.008017   -2.09599998 NaN  \n",
      "3     HQKJYAGNQSMRJK-FZOZFQFYNA-N  0.260016  -0.585000001 NaN  \n",
      "4     BUYMVQAILCEWRR-UHFFFAOYNA-N  0.005248  -2.279999967 NaN  \n",
      "...                           ...       ...           ...  ..  \n",
      "9725  LRFVTYWOQMYALW-QMXMOWLQNA-N  0.000451  -3.345999715 NaN  \n",
      "9726  LRFVTYWOQMYALW-QMXMOWLQNA-N  0.000135  -3.871000114 NaN  \n",
      "9727  VURKRJGMSKJIQX-BZZNGZMBNA-N  0.000140   -3.85499949 NaN  \n",
      "9728  CVQODEWAPZVVBU-WXRBYKJCNA-N  0.002630  -2.579999999 NaN  \n",
      "9729  PQFDUCZWWSHNBL-JLGFQASFNA-N  0.023496  -1.629000004 NaN  \n",
      "\n",
      "[9730 rows x 8 columns]\n"
     ]
    }
   ],
   "source": [
    "# Remove the 'MP_C' column from the data2\n",
    "df2.drop(columns=['MP_C'], inplace=True)\n",
    "\n",
    "print(df2)"
   ]
  },
  {
   "cell_type": "code",
   "execution_count": 23,
   "id": "7c29aefa-a961-48b6-b5d4-c4bb2044a65b",
   "metadata": {},
   "outputs": [],
   "source": [
    "#combine data files and remove duplicates"
   ]
  },
  {
   "cell_type": "code",
   "execution_count": 25,
   "id": "8b6989da-80d9-4b39-9b9f-2e982ce358c0",
   "metadata": {},
   "outputs": [
    {
     "name": "stdout",
     "output_type": "stream",
     "text": [
      "df1 columns: Index(['solute_name', 'solute_smiles', 'solvent_name', 'solvent_smiles',\n",
      "       'solute_inchikey', 'S_M', 'logS_M', 'MW'],\n",
      "      dtype='object')\n",
      "df2 columns: Index(['solute_name', 'solute_smiles', 'solvent_name', 'solvent_smiles',\n",
      "       'solute_inchikey', 'S_M', 'logS_M', 'MW'],\n",
      "      dtype='object')\n"
     ]
    }
   ],
   "source": [
    "#check columns in df1 and df2\n",
    "print(\"df1 columns:\", df1.columns)\n",
    "print(\"df2 columns:\", df2.columns)"
   ]
  },
  {
   "cell_type": "code",
   "execution_count": 27,
   "id": "f059f258-031f-43d7-9250-b0d7ef5d5d30",
   "metadata": {},
   "outputs": [],
   "source": [
    "#check format of columns\n",
    "df1.columns = df1.columns.str.strip()\n",
    "df2.columns = df2.columns.str.strip()\n",
    "\n",
    "df1['solute_name'] = df1['solute_name'].astype(str)\n",
    "df2['solute_name'] = df2['solute_name'].astype(str)\n"
   ]
  },
  {
   "cell_type": "code",
   "execution_count": 29,
   "id": "6d89b9f9-e14e-458b-b6ef-a5d309b600b3",
   "metadata": {
    "scrolled": true
   },
   "outputs": [
    {
     "name": "stdout",
     "output_type": "stream",
     "text": [
      "                                             solute_name  \\\n",
      "0                                     (-)-levonorgestrel   \n",
      "1                                     (-)-levonorgestrel   \n",
      "2             (1-diethylamino-1-oxopropan-2-yl) benzoate   \n",
      "3            (1,1-dioxido-1,2-thiazinan-2-yl)acetic acid   \n",
      "4      (1,2-dibromo-2,2-dichloroethyl) dimethyl phosp...   \n",
      "...                                                  ...   \n",
      "18287                                           xanthine   \n",
      "18288                                           xanthine   \n",
      "18289                                       xanthopterin   \n",
      "18290                                                XMC   \n",
      "18291                                       ZINC02631261   \n",
      "\n",
      "                                           solute_smiles  \\\n",
      "0      O=C4\\C=C3/[C@@H]([C@H]2CC[C@]1([C@@H](CC[C@]1(...   \n",
      "1      O=C4\\C=C3/[C@@H]([C@H]2CC[C@]1([C@@H](CC[C@]1(...   \n",
      "2                       C(=O)(C(OC(=O)c1ccccc1)C)N(CC)CC   \n",
      "3                              S1(=O)(=O)N(CC(=O)O)CCCC1   \n",
      "4                           BrC(Cl)(Cl)C(Br)OP(=O)(OC)OC   \n",
      "...                                                  ...   \n",
      "18287                             c1[nH]c2c(n1)nc(nc2O)O   \n",
      "18288                             c1[nH]c2c(n1)nc(nc2O)O   \n",
      "18289                       C21=C(N=C(NC1=O)N)N=CC(=O)N2   \n",
      "18290                           N(C)C(=O)Oc1cc(cc(c1)C)C   \n",
      "18291            N1(C(=O)C(=C(N1C)C)NC(=O)NCCCC)c2ccccc2   \n",
      "\n",
      "                 solvent_name                    solvent_smiles  \\\n",
      "0                   1-octanol                         OCCCCCCCC   \n",
      "1                   1-octanol                         OCCCCCCCC   \n",
      "2                       water                                 O   \n",
      "3                       water                                 O   \n",
      "4                       water                                 O   \n",
      "...                       ...                               ...   \n",
      "18287  PEG400/water(75:25)vol  O(CCOCCOCCO)CCOCCOCCOCCOCCOCCO.O   \n",
      "18288                   water                                 O   \n",
      "18289                   water                                 O   \n",
      "18290                   water                                 O   \n",
      "18291                   water                                 O   \n",
      "\n",
      "                   solute_inchikey       S_M        logS_M       MW  \n",
      "0      WWYNJERNGUHSAO-XUDSTZEENA-N  0.014791  -1.829999997  312.453  \n",
      "1      WWYNJERNGUHSAO-XUDSTZEENA-N  0.014791  -1.829999997  312.453  \n",
      "2      BZZFPIRKNVWTKJ-UHFFFAOYNA-N  0.008017   -2.09599998  249.310  \n",
      "3      HQKJYAGNQSMRJK-FZOZFQFYNA-N  0.260016  -0.585000001  193.224  \n",
      "4      BUYMVQAILCEWRR-UHFFFAOYNA-N  0.005248  -2.279999967  380.784  \n",
      "...                            ...       ...           ...      ...  \n",
      "18287  LRFVTYWOQMYALW-QMXMOWLQNA-N  0.000451  -3.345999715      NaN  \n",
      "18288  LRFVTYWOQMYALW-QMXMOWLQNA-N  0.000135  -3.871000114      NaN  \n",
      "18289  VURKRJGMSKJIQX-BZZNGZMBNA-N  0.000140   -3.85499949      NaN  \n",
      "18290  CVQODEWAPZVVBU-WXRBYKJCNA-N  0.002630  -2.579999999      NaN  \n",
      "18291  PQFDUCZWWSHNBL-JLGFQASFNA-N  0.023496  -1.629000004      NaN  \n",
      "\n",
      "[18292 rows x 8 columns]\n"
     ]
    }
   ],
   "source": [
    "# Combine the two data files\n",
    "combined_df = pd.concat([df1, df2])\n",
    "\n",
    "# Save the combined data to a new CSV file (if needed)\n",
    "combined_df.to_csv('combined_data.csv', index=False)\n",
    "\n",
    "combined_data = pd.read_csv('combined_data.csv')\n",
    "print(combined_data)"
   ]
  },
  {
   "cell_type": "code",
   "execution_count": 31,
   "id": "6ad9f86c-9f7b-43f5-a43e-d5bfae21a0c6",
   "metadata": {},
   "outputs": [
    {
     "name": "stdout",
     "output_type": "stream",
     "text": [
      "Index(['solute_name', 'solute_smiles', 'solvent_name', 'solvent_smiles',\n",
      "       'solute_inchikey', 'S_M', 'logS_M', 'MW'],\n",
      "      dtype='object')\n"
     ]
    }
   ],
   "source": [
    "#check column names\n",
    "print(combined_data.columns)"
   ]
  },
  {
   "cell_type": "code",
   "execution_count": 35,
   "id": "b92cb3a4-6b72-446f-a322-57a58e910697",
   "metadata": {},
   "outputs": [
    {
     "name": "stdout",
     "output_type": "stream",
     "text": [
      "(16399, 8)\n",
      "(18292, 8)\n",
      "                                            solute_name  \\\n",
      "0                                        1,2,4-triazole   \n",
      "1                                        1,2,4-triazole   \n",
      "2                                        1,2,4-triazole   \n",
      "3                                        1,2,4-triazole   \n",
      "4                                        1,2,4-triazole   \n",
      "...                                                 ...   \n",
      "8765                                           xanthine   \n",
      "8766                                           xanthine   \n",
      "8767                                       xanthopterin   \n",
      "8768  {(2Z)-1-[(6-Chloro-3-pyridinyl)methyl]-3-methy...   \n",
      "8769  {1-[(6-Chloro-3-pyridinyl)methyl]-4,5-dihydro-...   \n",
      "\n",
      "                        solute_smiles   solvent_name  \\\n",
      "0                           C1=CN=NN1     1-propanol   \n",
      "1                           C1=CN=NN1     2-propanol   \n",
      "2                           C1=CN=NN1  butyl acetate   \n",
      "3                           C1=CN=NN1        ethanol   \n",
      "4                           C1=CN=NN1  ethyl acetate   \n",
      "...                               ...            ...   \n",
      "8765           c1[nH]c2c(n1)nc(nc2O)O         PEG400   \n",
      "8766           c1[nH]c2c(n1)nc(nc2O)O          water   \n",
      "8767     C21=C(N=C(NC1=O)N)N=CC(=O)N2          water   \n",
      "8768  CN\\1CCN(/C1=N\\C#N)Cc2ccc(nc2)Cl          water   \n",
      "8769    N1(C(=NC#N)NCC1)Cc2cnc(cc2)Cl          water   \n",
      "\n",
      "                      solvent_smiles              solute_inchikey       S_M  \\\n",
      "0                               CCCO  NSPMIYGKQJPBQR-TULZNQERNA-N  2.326000   \n",
      "1                             CC(O)C  NSPMIYGKQJPBQR-TULZNQERNA-N  2.434000   \n",
      "2                        O=C(OCCCC)C  NSPMIYGKQJPBQR-TULZNQERNA-N  0.186000   \n",
      "3                                CCO  NSPMIYGKQJPBQR-TULZNQERNA-N  3.187000   \n",
      "4                          O=C(OCC)C  NSPMIYGKQJPBQR-TULZNQERNA-N  0.426000   \n",
      "...                              ...                          ...       ...   \n",
      "8765  O(CCOCCOCCO)CCOCCOCCOCCOCCOCCO  LRFVTYWOQMYALW-QMXMOWLQNA-N  0.000165   \n",
      "8766                               O  LRFVTYWOQMYALW-QMXMOWLQNA-N  0.000135   \n",
      "8767                               O  VURKRJGMSKJIQX-BZZNGZMBNA-N  0.000140   \n",
      "8768                               O  FAAKQHWYELHYCG-UHFFFAOYNA-N  0.007362   \n",
      "8769                               O  QNSLBNMSETUZJN-NDKGDYFDNA-N  0.002333   \n",
      "\n",
      "            logS_M       MW  \n",
      "0       0.36660971   69.067  \n",
      "1      0.386320574   69.067  \n",
      "2     -0.730487056   69.067  \n",
      "3      0.503382063   69.067  \n",
      "4     -0.370590401   69.067  \n",
      "...            ...      ...  \n",
      "8765   -3.78300063  152.113  \n",
      "8766  -3.871000114  152.113  \n",
      "8767   -3.85499949  179.139  \n",
      "8768  -2.132999999  249.705  \n",
      "8769  -2.632000012  235.678  \n",
      "\n",
      "[8770 rows x 8 columns]\n"
     ]
    }
   ],
   "source": [
    "# Identify duplicate rows except for 'LogS_M'\n",
    "columns_to_check = [col for col in combined_data.columns if col not in ['logS_M', 'MW', 'S_M', 'solute_inchikey']]\n",
    "duplicates = combined_data[combined_data.duplicated(subset=columns_to_check, keep=False)].copy()\n",
    "\n",
    "# Save duplicate rows\n",
    "duplicates.to_csv('combined_data_duplicates.csv', index=False)\n",
    "\n",
    "print(duplicates.shape)  # Check how many duplicates were identified\n",
    "print(combined_data.shape)  # Check original data size\n",
    "\n",
    "# Remove original duplicate rows from the dataframe\n",
    "combined_data_no_duplicates = combined_data.drop(duplicates.index)\n",
    "combined_data_no_duplicates.to_csv('combined_data_no_duplicates.csv', index=False)\n",
    "\n",
    "# Ensure 'LogS' is numeric before averaging\n",
    "duplicates.loc[:, 'logS_M'] = pd.to_numeric(duplicates['logS_M'], errors='coerce').fillna(0)\n",
    "duplicates.loc['MW'] = pd.to_numeric(duplicates['MW'], errors='coerce')\n",
    "duplicates.loc['S_M'] = pd.to_numeric(duplicates['S_M'], errors='coerce')\n",
    "\n",
    "# Compute the average 'LogS' for duplicate groups\n",
    "averaged_duplicates = duplicates.groupby(columns_to_check + ['solute_inchikey'], as_index=False).agg({'logS_M': 'mean', 'MW': 'mean', 'S_M':'mean'})\n",
    "\n",
    "# Append the averaged rows\n",
    "combined_data_no_duplicates = pd.concat([combined_data_no_duplicates, averaged_duplicates], ignore_index=True)\n",
    "\n",
    "# Save the final dataframe\n",
    "combined_data_no_duplicates.to_csv('combined_data_no_duplicates_and_ave_duplicates.csv', index=False)\n",
    "\n",
    "#print combined_data_no_duplicates_and_ave_duplicates\n",
    "df = pd.read_csv('combined_data_no_duplicates_and_ave_duplicates.csv')\n",
    "print(df)\n"
   ]
  },
  {
   "cell_type": "code",
   "execution_count": null,
   "id": "482d734b-cc9b-4e65-93ec-4dc02c744ead",
   "metadata": {},
   "outputs": [],
   "source": []
  }
 ],
 "metadata": {
  "kernelspec": {
   "display_name": "Python [conda env:base] *",
   "language": "python",
   "name": "conda-base-py"
  },
  "language_info": {
   "codemirror_mode": {
    "name": "ipython",
    "version": 3
   },
   "file_extension": ".py",
   "mimetype": "text/x-python",
   "name": "python",
   "nbconvert_exporter": "python",
   "pygments_lexer": "ipython3",
   "version": "3.12.3"
  }
 },
 "nbformat": 4,
 "nbformat_minor": 5
}
