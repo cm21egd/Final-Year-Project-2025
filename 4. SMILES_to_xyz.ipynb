{
 "cells": [
  {
   "cell_type": "code",
   "execution_count": 9,
   "id": "eb6017b9-2f57-4b39-9188-478cbe3076a8",
   "metadata": {},
   "outputs": [
    {
     "name": "stdout",
     "output_type": "stream",
     "text": [
      "Channels:\n",
      " - conda-forge\n",
      " - defaults\n",
      "Platform: win-64\n",
      "Collecting package metadata (repodata.json): ...working... done\n",
      "Solving environment: ...working... done\n",
      "\n",
      "# All requested packages already installed.\n",
      "\n"
     ]
    }
   ],
   "source": [
    "!conda install -c conda-forge rdkit -y"
   ]
  },
  {
   "cell_type": "code",
   "execution_count": 2,
   "id": "3694820c-f15a-477d-8736-fd371bea8f36",
   "metadata": {},
   "outputs": [
    {
     "name": "stdout",
     "output_type": "stream",
     "text": [
      "C:\\Users\\emmad\\OneDrive - University of Leeds\\leeds admin\\chem\\3650\\coding\n"
     ]
    }
   ],
   "source": [
    "import os\n",
    "print(os.getcwd())"
   ]
  },
  {
   "cell_type": "code",
   "execution_count": 4,
   "id": "b8d2aed1-7dfb-449a-a950-234826d30ac0",
   "metadata": {},
   "outputs": [
    {
     "name": "stderr",
     "output_type": "stream",
     "text": [
      "[15:07:03] Can't kekulize mol.  Unkekulized atoms: 0 1 2 3 4\n",
      "[15:07:03] Can't kekulize mol.  Unkekulized atoms: 0 1 2 3 4\n",
      "[15:07:03] Can't kekulize mol.  Unkekulized atoms: 0 1 2 3 4\n",
      "[15:07:03] Can't kekulize mol.  Unkekulized atoms: 0 1 2 3 4\n",
      "[15:07:03] Can't kekulize mol.  Unkekulized atoms: 0 1 2 3 4\n",
      "[15:07:03] Can't kekulize mol.  Unkekulized atoms: 0 1 2 3 4\n",
      "[15:07:03] Can't kekulize mol.  Unkekulized atoms: 0 1 2 3 4\n",
      "[15:07:03] Can't kekulize mol.  Unkekulized atoms: 0 1 2 3 4\n",
      "[15:07:03] Can't kekulize mol.  Unkekulized atoms: 0 1 2 3 4\n",
      "[15:07:03] Can't kekulize mol.  Unkekulized atoms: 0 1 2 3 4\n",
      "[15:07:03] Can't kekulize mol.  Unkekulized atoms: 0 1 2 3 4 5 6 7 8\n",
      "[15:07:03] Can't kekulize mol.  Unkekulized atoms: 0 1 2 3 4 5 6 7 8\n",
      "[15:07:03] Can't kekulize mol.  Unkekulized atoms: 0 1 2 3 4 5 6 7 8\n",
      "[15:07:03] Can't kekulize mol.  Unkekulized atoms: 0 1 2 3 4 5 6 7 8\n",
      "[15:07:03] Can't kekulize mol.  Unkekulized atoms: 0 1 2 3 4 5 6 7 8\n",
      "[15:07:03] Can't kekulize mol.  Unkekulized atoms: 0 1 2 3 4 5 6 7 8\n",
      "[15:07:03] Can't kekulize mol.  Unkekulized atoms: 0 1 2 3 4 5 6 7 8\n",
      "[15:07:03] Can't kekulize mol.  Unkekulized atoms: 0 1 2 3 4 5 6 7 8\n"
     ]
    },
    {
     "name": "stdout",
     "output_type": "stream",
     "text": [
      "Skipping invalid SMILES: n1cnnc1\n",
      "Skipping invalid SMILES: n1cnnc1\n",
      "Skipping invalid SMILES: n1cnnc1\n",
      "Skipping invalid SMILES: n1cnnc1\n",
      "Skipping invalid SMILES: n1cnnc1\n",
      "Skipping invalid SMILES: n1cnnc1\n",
      "Skipping invalid SMILES: n1cnnc1\n",
      "Skipping invalid SMILES: n1cnnc1\n",
      "Skipping invalid SMILES: n1cnnc1\n",
      "Skipping invalid SMILES: n1cnnc1\n",
      "Skipping invalid SMILES: n2c1ccccc1nc2C\n",
      "Skipping invalid SMILES: n2c1ccccc1nc2C\n",
      "Skipping invalid SMILES: n2c1ccccc1nc2C\n",
      "Skipping invalid SMILES: n2c1ccccc1nc2C\n",
      "Skipping invalid SMILES: n2c1ccccc1nc2C\n",
      "Skipping invalid SMILES: n2c1ccccc1nc2C\n",
      "Skipping invalid SMILES: n2c1ccccc1nc2C\n",
      "Skipping invalid SMILES: n2c1ccccc1nc2C\n"
     ]
    },
    {
     "name": "stderr",
     "output_type": "stream",
     "text": [
      "[15:07:05] Can't kekulize mol.  Unkekulized atoms: 9 10 11 12 13 14 15 16 17\n",
      "[15:07:05] Can't kekulize mol.  Unkekulized atoms: 9 10 11 12 13 14 15 16 17\n"
     ]
    },
    {
     "name": "stdout",
     "output_type": "stream",
     "text": [
      "Skipping invalid SMILES: [O-][N+](=O)c3ncn(c3Sc1ncnc2ncnc12)C\n",
      "Skipping invalid SMILES: [O-][N+](=O)c3ncn(c3Sc1ncnc2ncnc12)C\n"
     ]
    },
    {
     "name": "stderr",
     "output_type": "stream",
     "text": [
      "[15:07:06] Can't kekulize mol.  Unkekulized atoms: 11 12 13 14 15\n",
      "[15:07:06] Can't kekulize mol.  Unkekulized atoms: 11 12 13 14 15\n",
      "[15:07:06] Can't kekulize mol.  Unkekulized atoms: 11 12 13 14 15\n",
      "[15:07:06] Can't kekulize mol.  Unkekulized atoms: 11 12 13 14 15\n",
      "[15:07:06] Can't kekulize mol.  Unkekulized atoms: 11 12 13 14 15\n",
      "[15:07:06] Can't kekulize mol.  Unkekulized atoms: 11 12 13 14 15\n",
      "[15:07:06] Can't kekulize mol.  Unkekulized atoms: 11 12 13 14 15\n",
      "[15:07:06] Can't kekulize mol.  Unkekulized atoms: 11 12 13 14 15\n",
      "[15:07:06] Can't kekulize mol.  Unkekulized atoms: 11 12 13 14 15\n",
      "[15:07:06] Can't kekulize mol.  Unkekulized atoms: 11 12 13 14 15\n",
      "[15:07:06] Can't kekulize mol.  Unkekulized atoms: 11 12 13 14 15\n"
     ]
    },
    {
     "name": "stdout",
     "output_type": "stream",
     "text": [
      "Skipping invalid SMILES: N#CN\\C(=N/C)NCCSCc1ncnc1C\n",
      "Skipping invalid SMILES: N#CN\\C(=N/C)NCCSCc1ncnc1C\n",
      "Skipping invalid SMILES: N#CN\\C(=N/C)NCCSCc1ncnc1C\n",
      "Skipping invalid SMILES: N#CN\\C(=N/C)NCCSCc1ncnc1C\n",
      "Skipping invalid SMILES: N#CN\\C(=N/C)NCCSCc1ncnc1C\n",
      "Skipping invalid SMILES: N#CN\\C(=N/C)NCCSCc1ncnc1C\n",
      "Skipping invalid SMILES: N#CN\\C(=N/C)NCCSCc1ncnc1C\n",
      "Skipping invalid SMILES: N#CN\\C(=N/C)NCCSCc1ncnc1C\n",
      "Skipping invalid SMILES: N#CN\\C(=N/C)NCCSCc1ncnc1C\n",
      "Skipping invalid SMILES: N#CN\\C(=N/C)NCCSCc1ncnc1C\n",
      "Skipping invalid SMILES: N#CN\\C(=N/C)NCCSCc1ncnc1C\n"
     ]
    },
    {
     "name": "stderr",
     "output_type": "stream",
     "text": [
      "[15:07:08] Can't kekulize mol.  Unkekulized atoms: 15 16 17 18 19 20 21 22 23\n",
      "[15:07:08] Can't kekulize mol.  Unkekulized atoms: 15 16 17 18 19 20 21 22 23\n",
      "[15:07:08] Can't kekulize mol.  Unkekulized atoms: 15 16 17 18 19 20 21 22 23\n",
      "[15:07:08] Can't kekulize mol.  Unkekulized atoms: 15 16 17 18 19 20 21 22 23\n",
      "[15:07:08] Can't kekulize mol.  Unkekulized atoms: 15 16 17 18 19 20 21 22 23\n",
      "[15:07:08] Can't kekulize mol.  Unkekulized atoms: 15 16 17 18 19 20 21 22 23\n",
      "[15:07:08] Can't kekulize mol.  Unkekulized atoms: 15 16 17 18 19 20 21 22 23\n",
      "[15:07:08] Can't kekulize mol.  Unkekulized atoms: 15 16 17 18 19 20 21 22 23\n"
     ]
    },
    {
     "name": "stdout",
     "output_type": "stream",
     "text": [
      "Skipping invalid SMILES: FC(F)(F)COc1c(c(ncc1)CS(=O)c3nc2ccccc2n3)C\n",
      "Skipping invalid SMILES: FC(F)(F)COc1c(c(ncc1)CS(=O)c3nc2ccccc2n3)C\n",
      "Skipping invalid SMILES: FC(F)(F)COc1c(c(ncc1)CS(=O)c3nc2ccccc2n3)C\n",
      "Skipping invalid SMILES: FC(F)(F)COc1c(c(ncc1)CS(=O)c3nc2ccccc2n3)C\n",
      "Skipping invalid SMILES: FC(F)(F)COc1c(c(ncc1)CS(=O)c3nc2ccccc2n3)C\n",
      "Skipping invalid SMILES: FC(F)(F)COc1c(c(ncc1)CS(=O)c3nc2ccccc2n3)C\n",
      "Skipping invalid SMILES: FC(F)(F)COc1c(c(ncc1)CS(=O)c3nc2ccccc2n3)C\n",
      "Skipping invalid SMILES: FC(F)(F)COc1c(c(ncc1)CS(=O)c3nc2ccccc2n3)C\n"
     ]
    },
    {
     "name": "stderr",
     "output_type": "stream",
     "text": [
      "[15:08:21] Can't kekulize mol.  Unkekulized atoms: 22 23 24 25 26\n",
      "[15:08:21] Can't kekulize mol.  Unkekulized atoms: 22 23 24 25 26\n",
      "[15:08:21] Can't kekulize mol.  Unkekulized atoms: 22 23 24 25 26\n",
      "[15:08:21] Can't kekulize mol.  Unkekulized atoms: 22 23 24 25 26\n"
     ]
    },
    {
     "name": "stdout",
     "output_type": "stream",
     "text": [
      "Skipping invalid SMILES: O=C(O)[C@@H](N(C(=O)CCCC)Cc3ccc(c1ccccc1c2nnnn2)cc3)C(C)C\n",
      "Skipping invalid SMILES: O=C(O)[C@@H](N(C(=O)CCCC)Cc3ccc(c1ccccc1c2nnnn2)cc3)C(C)C\n",
      "Skipping invalid SMILES: O=C(O)[C@@H](N(C(=O)CCCC)Cc3ccc(c1ccccc1c2nnnn2)cc3)C(C)C\n",
      "Skipping invalid SMILES: O=C(O)[C@@H](N(C(=O)CCCC)Cc3ccc(c1ccccc1c2nnnn2)cc3)C(C)C\n"
     ]
    },
    {
     "name": "stderr",
     "output_type": "stream",
     "text": [
      "[15:09:16] Can't kekulize mol.  Unkekulized atoms: 11 12 13 14 15\n"
     ]
    },
    {
     "name": "stdout",
     "output_type": "stream",
     "text": [
      "Skipping invalid SMILES: N#CN\\C(=N/C)NCCSCc1ncnc1C\n"
     ]
    },
    {
     "name": "stderr",
     "output_type": "stream",
     "text": [
      "[15:10:23] Can't kekulize mol.  Unkekulized atoms: 22 23 24 25 26\n"
     ]
    },
    {
     "name": "stdout",
     "output_type": "stream",
     "text": [
      "Skipping invalid SMILES: O=C(O)[C@@H](N(C(=O)CCCC)Cc3ccc(c1ccccc1c2nnnn2)cc3)C(C)C\n",
      "XYZ files saved in 'xyz'\n"
     ]
    }
   ],
   "source": [
    "import pandas as pd\n",
    "from rdkit import Chem\n",
    "from rdkit.Chem import AllChem\n",
    "\n",
    "\n",
    "# Load dataset\n",
    "csv_file = \"filtered_data_updated_final2.csv\"\n",
    "output_folder = \"xyz\"\n",
    "\n",
    "# Create output folder if it doesn't exist\n",
    "os.makedirs(output_folder, exist_ok=True)\n",
    "\n",
    "# Read the CSV file\n",
    "df = pd.read_csv(csv_file)\n",
    "\n",
    "# Assuming the SMILES column is named 'solute_smiles'\n",
    "if 'solute_smiles' not in df.columns:\n",
    "    raise ValueError(\"CSV file must contain a column named 'solute_smiles'\")\n",
    "\n",
    "def smiles_to_xyz(solute_smiles, filename):\n",
    "    \"\"\"Converts a SMILES string to an XYZ file and saves it.\"\"\"\n",
    "    mol = Chem.MolFromSmiles(solute_smiles)\n",
    "    if mol is None:\n",
    "        print(f\"Skipping invalid SMILES: {solute_smiles}\")\n",
    "        return\n",
    "\n",
    "    # Add Hydrogens\n",
    "    mol = Chem.AddHs(mol)\n",
    "\n",
    "    # Generate 3D coordinates\n",
    "    AllChem.EmbedMolecule(mol, AllChem.ETKDG())\n",
    "    AllChem.UFFOptimizeMolecule(mol)\n",
    "\n",
    "    # Extract atom coordinates\n",
    "    conf = mol.GetConformer()\n",
    "    num_atoms = mol.GetNumAtoms()\n",
    "\n",
    "    with open(filename, \"w\") as f:\n",
    "        f.write(f\"{num_atoms}\\nGenerated by RDKit\\n\")\n",
    "        for i in range(num_atoms):\n",
    "            atom = mol.GetAtomWithIdx(i)\n",
    "            pos = conf.GetAtomPosition(i)\n",
    "            f.write(f\"{atom.GetSymbol()} {pos.x:.6f} {pos.y:.6f} {pos.z:.6f}\\n\")\n",
    "\n",
    "# Process each SMILES entry\n",
    "for index, row in df.iterrows():\n",
    "    solute_smiles = row['solute_smiles']\n",
    "    solute_inchikey = row['solute_inchikey'] \n",
    "    output_file = os.path.join(output_folder, f\"{solute_inchikey}.xyz\")\n",
    "    smiles_to_xyz(solute_smiles, output_file)\n",
    "\n",
    "print(f\"XYZ files saved in '{output_folder}'\")\n",
    "\n"
   ]
  },
  {
   "cell_type": "code",
   "execution_count": 17,
   "id": "a6ca07fc-17fa-4b8d-88ca-15b90d9900f3",
   "metadata": {},
   "outputs": [
    {
     "name": "stdout",
     "output_type": "stream",
     "text": [
      "Filtered CSV file created successfully!\n"
     ]
    }
   ],
   "source": [
    "import pandas as pd\n",
    "\n",
    "# Load the CSV file\n",
    "df = pd.read_csv('filtered_data_updated2.csv')\n",
    "\n",
    "# Define the list of SMILES strings to filter\n",
    "smiles_to_keep = [\n",
    "    r'n1cnnc1',  # Example SMILES string\n",
    "    r'n2c1ccccc1nc2C',  \n",
    "    r'[O-][N+](=O)c3ncn(c3Sc1ncnc2ncnc12)C',\n",
    "    r'N#CN\\C(=N/C)NCCSCc1ncnc1C',\n",
    "    r'FC(F)(F)COc1c(c(ncc1)CS(=O)c3nc2ccccc2n3)C',\n",
    "    r'O=C(O)[C@@H](N(C(=O)CCCC)Cc3ccc(c1ccccc1c2nnnn2)cc3)C(C)C',\n",
    "    r'N#CN\\C(=N/C)NCCSCc1ncnc1C',\n",
    "    r'O=C(O)[C@@H](N(C(=O)CCCC)Cc3ccc(c1ccccc1c2nnnn2)cc3)C(C)C'\n",
    "]\n",
    "\n",
    "# Filter the DataFrame\n",
    "filtered_df = df[df['solute_smiles'].isin(smiles_to_keep)]\n",
    "\n",
    "# Save to a new CSV file\n",
    "filtered_df.to_csv('failed_smiles.csv', index=False)\n",
    "\n",
    "print(\"Filtered CSV file created successfully!\")\n"
   ]
  },
  {
   "cell_type": "code",
   "execution_count": 9,
   "id": "07358c92-5b80-450a-8d44-7436895277eb",
   "metadata": {},
   "outputs": [
    {
     "name": "stdout",
     "output_type": "stream",
     "text": [
      "C:\\Users\\emmad\\anaconda3\n"
     ]
    }
   ],
   "source": [
    "import sys\n",
    "print(sys.prefix)"
   ]
  },
  {
   "cell_type": "code",
   "execution_count": 21,
   "id": "fe60c258-55db-471e-97d6-331381de1fce",
   "metadata": {},
   "outputs": [
    {
     "name": "stdout",
     "output_type": "stream",
     "text": [
      "Channels:\n",
      " - conda-forge\n",
      " - defaults\n",
      "Platform: win-64\n",
      "Collecting package metadata (repodata.json): ...working... done\n",
      "Solving environment: ...working... done\n",
      "\n",
      "# All requested packages already installed.\n",
      "\n"
     ]
    }
   ],
   "source": [
    "!conda install -c conda-forge openbabel"
   ]
  },
  {
   "cell_type": "code",
   "execution_count": 23,
   "id": "2b307963-0b97-4832-beda-af9ea2c5963c",
   "metadata": {},
   "outputs": [
    {
     "name": "stdout",
     "output_type": "stream",
     "text": [
      "Requirement already satisfied: requests in c:\\users\\emmad\\anaconda3\\envs\\openbabel_env\\lib\\site-packages (2.32.3)\n",
      "Requirement already satisfied: charset-normalizer<4,>=2 in c:\\users\\emmad\\anaconda3\\envs\\openbabel_env\\lib\\site-packages (from requests) (3.4.1)\n",
      "Requirement already satisfied: idna<4,>=2.5 in c:\\users\\emmad\\anaconda3\\envs\\openbabel_env\\lib\\site-packages (from requests) (3.10)\n",
      "Requirement already satisfied: urllib3<3,>=1.21.1 in c:\\users\\emmad\\anaconda3\\envs\\openbabel_env\\lib\\site-packages (from requests) (2.2.3)\n",
      "Requirement already satisfied: certifi>=2017.4.17 in c:\\users\\emmad\\anaconda3\\envs\\openbabel_env\\lib\\site-packages (from requests) (2025.1.31)\n"
     ]
    }
   ],
   "source": [
    "!pip install requests"
   ]
  },
  {
   "cell_type": "code",
   "execution_count": 1,
   "id": "16e12700-4a59-400b-91f0-53e5d7d60f6c",
   "metadata": {},
   "outputs": [
    {
     "ename": "ModuleNotFoundError",
     "evalue": "No module named 'openbabel'",
     "output_type": "error",
     "traceback": [
      "\u001b[1;31m---------------------------------------------------------------------------\u001b[0m",
      "\u001b[1;31mModuleNotFoundError\u001b[0m                       Traceback (most recent call last)",
      "Cell \u001b[1;32mIn[1], line 2\u001b[0m\n\u001b[0;32m      1\u001b[0m \u001b[38;5;28;01mimport\u001b[39;00m \u001b[38;5;21;01mpandas\u001b[39;00m \u001b[38;5;28;01mas\u001b[39;00m \u001b[38;5;21;01mpd\u001b[39;00m\n\u001b[1;32m----> 2\u001b[0m \u001b[38;5;28;01mimport\u001b[39;00m \u001b[38;5;21;01mopenbabel\u001b[39;00m\n\u001b[0;32m      3\u001b[0m \u001b[38;5;28;01mimport\u001b[39;00m \u001b[38;5;21;01mpybel\u001b[39;00m\n\u001b[0;32m      5\u001b[0m \u001b[38;5;66;03m# Function to convert InChIKey to SMILES using OpenBabel\u001b[39;00m\n",
      "\u001b[1;31mModuleNotFoundError\u001b[0m: No module named 'openbabel'"
     ]
    }
   ],
   "source": [
    "import pandas as pd\n",
    "import openbabel\n",
    "import pybel\n",
    "\n",
    "# Function to convert InChIKey to SMILES using OpenBabel\n",
    "def inchikey_to_smiles(inchikey):\n",
    "    try:\n",
    "        # Create an OpenBabel molecule from the InChIKey\n",
    "        mol = pybel.readstring(\"inchi\", f\"InChI=1S/{inchikey}/\")\n",
    "        \n",
    "        # Return the SMILES representation of the molecule\n",
    "        if mol:\n",
    "            return mol.write(\"smiles\").strip()\n",
    "        else:\n",
    "            return None  # Return None if InChIKey is not valid\n",
    "    except Exception as e:\n",
    "        # Return None if there's an error in conversion\n",
    "        print(f\"Error converting InChIKey {inchikey}: {e}\")\n",
    "        return None\n",
    "\n",
    "# Load the CSV file containing InChIKeys\n",
    "df = pd.read_csv('failed_smiles.csv')\n",
    "\n",
    "# Convert InChIKeys to SMILES (using the 'solute_inchikeys' column)\n",
    "df['solute_smiles'] = df['solute_inchikeys'].apply(inchikey_to_smiles)\n",
    "\n",
    "# Drop rows where SMILES couldn't be retrieved (i.e., None)\n",
    "df = df.dropna(subset=['solute_smiles'])\n",
    "\n",
    "# Save the updated CSV file with the SMILES\n",
    "df.to_csv('resolved_smiles.csv', index=False)\n",
    "\n",
    "print(\"Conversion complete. The new file is 'resolved_smiles.csv'.\")\n",
    "\n"
   ]
  },
  {
   "cell_type": "code",
   "execution_count": null,
   "id": "6eb29849-2edd-46ac-af71-8fef1420ffe0",
   "metadata": {},
   "outputs": [],
   "source": [
    "for index, row in df.iterrows():\n",
    "    smiles = row['SMILES']\n",
    "    molecule_name = f\"molecule_{index}.xyz\"\n",
    "    \n",
    "    # Run Open Babel command to convert SMILES to XYZ\n",
    "    command = f'obabel -:\"{smiles}\" -O {molecule_name} --gen3d'\n",
    "    subprocess.run(command, shell=True)\n",
    "\n",
    "print(\"XYZ file generation complete!\")"
   ]
  }
 ],
 "metadata": {
  "kernelspec": {
   "display_name": "Python [conda env:base] *",
   "language": "python",
   "name": "conda-base-py"
  },
  "language_info": {
   "codemirror_mode": {
    "name": "ipython",
    "version": 3
   },
   "file_extension": ".py",
   "mimetype": "text/x-python",
   "name": "python",
   "nbconvert_exporter": "python",
   "pygments_lexer": "ipython3",
   "version": "3.12.3"
  }
 },
 "nbformat": 4,
 "nbformat_minor": 5
}
