{
 "cells": [
  {
   "cell_type": "code",
   "execution_count": 4,
   "id": "1af7b282-7c42-4b99-a547-b6b50d4ac189",
   "metadata": {},
   "outputs": [],
   "source": [
    "import pandas as pd"
   ]
  },
  {
   "cell_type": "code",
   "execution_count": 12,
   "id": "99083293-5dec-4fb9-ba00-04d50ceea85f",
   "metadata": {},
   "outputs": [],
   "source": [
    "# Load the CSV file\n",
    "df = pd.read_csv(\"filtered_data_updated_final2.csv\")"
   ]
  },
  {
   "cell_type": "code",
   "execution_count": 14,
   "id": "90386680-d4ff-4673-b01a-516a71096f64",
   "metadata": {},
   "outputs": [
    {
     "name": "stdout",
     "output_type": "stream",
     "text": [
      "Number of unique solutes: 319\n",
      "Number of unique solvents: 77\n"
     ]
    }
   ],
   "source": [
    "# Count unique entries\n",
    "unique_solutes = df['solute_inchikey'].nunique()\n",
    "unique_solvents = df['solvent_name'].nunique()\n",
    "\n",
    "print(f\"Number of unique solutes: {unique_solutes}\")\n",
    "print(f\"Number of unique solvents: {unique_solvents}\")"
   ]
  },
  {
   "cell_type": "code",
   "execution_count": 35,
   "id": "3a5c55c5-e6b5-4db1-815b-85666267b380",
   "metadata": {},
   "outputs": [
    {
     "name": "stdout",
     "output_type": "stream",
     "text": [
      "Number of possible combinations of solute and solvent:  24563\n",
      "Percentage of data coverage:  13.955950006106747 %\n"
     ]
    }
   ],
   "source": [
    "# Calculate total number of possible combinations\n",
    "combinations = 319*77\n",
    "percentage = len(df['logS_M'])*100/combinations\n",
    "print ('Number of possible combinations of solute and solvent: ', combinations)\n",
    "print ('Percentage of data coverage: ', percentage, '%')"
   ]
  },
  {
   "cell_type": "code",
   "execution_count": null,
   "id": "437c644f-b613-4cbd-8836-d11180024bab",
   "metadata": {},
   "outputs": [],
   "source": []
  }
 ],
 "metadata": {
  "kernelspec": {
   "display_name": "Python [conda env:base] *",
   "language": "python",
   "name": "conda-base-py"
  },
  "language_info": {
   "codemirror_mode": {
    "name": "ipython",
    "version": 3
   },
   "file_extension": ".py",
   "mimetype": "text/x-python",
   "name": "python",
   "nbconvert_exporter": "python",
   "pygments_lexer": "ipython3",
   "version": "3.12.3"
  }
 },
 "nbformat": 4,
 "nbformat_minor": 5
}
