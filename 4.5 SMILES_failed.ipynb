{
 "cells": [
  {
   "cell_type": "code",
   "execution_count": 3,
   "id": "a536ef96-e0c5-4e2d-8e0e-b7041b1e383c",
   "metadata": {},
   "outputs": [
    {
     "name": "stdout",
     "output_type": "stream",
     "text": [
      "Collecting pandas\n",
      "  Downloading pandas-2.0.3-cp38-cp38-win_amd64.whl.metadata (18 kB)\n",
      "Requirement already satisfied: python-dateutil>=2.8.2 in c:\\users\\emmad\\anaconda3\\envs\\openbabel_env\\lib\\site-packages (from pandas) (2.9.0.post0)\n",
      "Collecting pytz>=2020.1 (from pandas)\n",
      "  Downloading pytz-2025.1-py2.py3-none-any.whl.metadata (22 kB)\n",
      "Collecting tzdata>=2022.1 (from pandas)\n",
      "  Downloading tzdata-2025.1-py2.py3-none-any.whl.metadata (1.4 kB)\n",
      "Collecting numpy>=1.20.3 (from pandas)\n",
      "  Downloading numpy-1.24.4-cp38-cp38-win_amd64.whl.metadata (5.6 kB)\n",
      "Requirement already satisfied: six>=1.5 in c:\\users\\emmad\\anaconda3\\envs\\openbabel_env\\lib\\site-packages (from python-dateutil>=2.8.2->pandas) (1.16.0)\n",
      "Downloading pandas-2.0.3-cp38-cp38-win_amd64.whl (10.8 MB)\n",
      "   ---------------------------------------- 0.0/10.8 MB ? eta -:--:--\n",
      "   -------------- ------------------------- 3.9/10.8 MB 21.3 MB/s eta 0:00:01\n",
      "   ---------------------------------------  10.7/10.8 MB 26.8 MB/s eta 0:00:01\n",
      "   ---------------------------------------- 10.8/10.8 MB 22.4 MB/s eta 0:00:00\n",
      "Downloading numpy-1.24.4-cp38-cp38-win_amd64.whl (14.9 MB)\n",
      "   ---------------------------------------- 0.0/14.9 MB ? eta -:--:--\n",
      "   ---------------------- ----------------- 8.4/14.9 MB 43.5 MB/s eta 0:00:01\n",
      "   ---------------------------------------  14.7/14.9 MB 38.4 MB/s eta 0:00:01\n",
      "   ---------------------------------------- 14.9/14.9 MB 29.2 MB/s eta 0:00:00\n",
      "Downloading pytz-2025.1-py2.py3-none-any.whl (507 kB)\n",
      "Downloading tzdata-2025.1-py2.py3-none-any.whl (346 kB)\n",
      "Installing collected packages: pytz, tzdata, numpy, pandas\n",
      "Successfully installed numpy-1.24.4 pandas-2.0.3 pytz-2025.1 tzdata-2025.1\n"
     ]
    }
   ],
   "source": [
    "!pip install pandas"
   ]
  },
  {
   "cell_type": "code",
   "execution_count": 7,
   "id": "1d6cc319-6c2f-4d9b-be4d-2b0da8c736df",
   "metadata": {},
   "outputs": [
    {
     "ename": "SyntaxError",
     "evalue": "invalid syntax (2394040447.py, line 1)",
     "output_type": "error",
     "traceback": [
      "\u001b[1;36m  Cell \u001b[1;32mIn[7], line 1\u001b[1;36m\u001b[0m\n\u001b[1;33m    conda remove openbabel\u001b[0m\n\u001b[1;37m          ^\u001b[0m\n\u001b[1;31mSyntaxError\u001b[0m\u001b[1;31m:\u001b[0m invalid syntax\n"
     ]
    }
   ],
   "source": [
    "conda remove openbabel\n",
    "conda install -c conda-forge openbabel"
   ]
  },
  {
   "cell_type": "code",
   "execution_count": 19,
   "id": "4724258b-7b93-420b-9a7c-16fc4eb63ea3",
   "metadata": {},
   "outputs": [
    {
     "name": "stdout",
     "output_type": "stream",
     "text": [
      "Error converting InChIKey NSPMIYGKQJPBQR-TULZNQERNA-N: Failed to convert 'InChI=1S/NSPMIYGKQJPBQR-TULZNQERNA-N/' to format 'inchi'\n",
      "Error converting InChIKey NSPMIYGKQJPBQR-TULZNQERNA-N: Failed to convert 'InChI=1S/NSPMIYGKQJPBQR-TULZNQERNA-N/' to format 'inchi'\n",
      "Error converting InChIKey NSPMIYGKQJPBQR-TULZNQERNA-N: Failed to convert 'InChI=1S/NSPMIYGKQJPBQR-TULZNQERNA-N/' to format 'inchi'\n",
      "Error converting InChIKey NSPMIYGKQJPBQR-TULZNQERNA-N: Failed to convert 'InChI=1S/NSPMIYGKQJPBQR-TULZNQERNA-N/' to format 'inchi'\n",
      "Error converting InChIKey NSPMIYGKQJPBQR-TULZNQERNA-N: Failed to convert 'InChI=1S/NSPMIYGKQJPBQR-TULZNQERNA-N/' to format 'inchi'\n",
      "Error converting InChIKey NSPMIYGKQJPBQR-TULZNQERNA-N: Failed to convert 'InChI=1S/NSPMIYGKQJPBQR-TULZNQERNA-N/' to format 'inchi'\n",
      "Error converting InChIKey NSPMIYGKQJPBQR-TULZNQERNA-N: Failed to convert 'InChI=1S/NSPMIYGKQJPBQR-TULZNQERNA-N/' to format 'inchi'\n",
      "Error converting InChIKey NSPMIYGKQJPBQR-TULZNQERNA-N: Failed to convert 'InChI=1S/NSPMIYGKQJPBQR-TULZNQERNA-N/' to format 'inchi'\n",
      "Error converting InChIKey NSPMIYGKQJPBQR-TULZNQERNA-N: Failed to convert 'InChI=1S/NSPMIYGKQJPBQR-TULZNQERNA-N/' to format 'inchi'\n",
      "Error converting InChIKey NSPMIYGKQJPBQR-TULZNQERNA-N: Failed to convert 'InChI=1S/NSPMIYGKQJPBQR-TULZNQERNA-N/' to format 'inchi'\n",
      "Error converting InChIKey NSPMIYGKQJPBQR-TULZNQERNA-N: Failed to convert 'InChI=1S/NSPMIYGKQJPBQR-TULZNQERNA-N/' to format 'inchi'\n",
      "Error converting InChIKey LDZYRENCLPUXAX-BGGKNDAXNA-N: Failed to convert 'InChI=1S/LDZYRENCLPUXAX-BGGKNDAXNA-N/' to format 'inchi'\n",
      "Error converting InChIKey LDZYRENCLPUXAX-BGGKNDAXNA-N: Failed to convert 'InChI=1S/LDZYRENCLPUXAX-BGGKNDAXNA-N/' to format 'inchi'\n",
      "Error converting InChIKey LDZYRENCLPUXAX-BGGKNDAXNA-N: Failed to convert 'InChI=1S/LDZYRENCLPUXAX-BGGKNDAXNA-N/' to format 'inchi'\n",
      "Error converting InChIKey LDZYRENCLPUXAX-BGGKNDAXNA-N: Failed to convert 'InChI=1S/LDZYRENCLPUXAX-BGGKNDAXNA-N/' to format 'inchi'\n",
      "Error converting InChIKey LDZYRENCLPUXAX-BGGKNDAXNA-N: Failed to convert 'InChI=1S/LDZYRENCLPUXAX-BGGKNDAXNA-N/' to format 'inchi'\n",
      "Error converting InChIKey LDZYRENCLPUXAX-BGGKNDAXNA-N: Failed to convert 'InChI=1S/LDZYRENCLPUXAX-BGGKNDAXNA-N/' to format 'inchi'\n",
      "Error converting InChIKey LDZYRENCLPUXAX-BGGKNDAXNA-N: Failed to convert 'InChI=1S/LDZYRENCLPUXAX-BGGKNDAXNA-N/' to format 'inchi'\n",
      "Error converting InChIKey LDZYRENCLPUXAX-BGGKNDAXNA-N: Failed to convert 'InChI=1S/LDZYRENCLPUXAX-BGGKNDAXNA-N/' to format 'inchi'\n",
      "Error converting InChIKey LMEKQMALGUDUQG-NDKGDYFDNA-N: Failed to convert 'InChI=1S/LMEKQMALGUDUQG-NDKGDYFDNA-N/' to format 'inchi'\n",
      "Error converting InChIKey LMEKQMALGUDUQG-NDKGDYFDNA-N: Failed to convert 'InChI=1S/LMEKQMALGUDUQG-NDKGDYFDNA-N/' to format 'inchi'\n",
      "Error converting InChIKey LMEKQMALGUDUQG-NDKGDYFDNA-N: Failed to convert 'InChI=1S/LMEKQMALGUDUQG-NDKGDYFDNA-N/' to format 'inchi'\n",
      "Error converting InChIKey LMEKQMALGUDUQG-NDKGDYFDNA-N: Failed to convert 'InChI=1S/LMEKQMALGUDUQG-NDKGDYFDNA-N/' to format 'inchi'\n",
      "Error converting InChIKey LMEKQMALGUDUQG-NDKGDYFDNA-N: Failed to convert 'InChI=1S/LMEKQMALGUDUQG-NDKGDYFDNA-N/' to format 'inchi'\n",
      "Error converting InChIKey AQIXAKUUQRKLND-CJFCUXRANA-N: Failed to convert 'InChI=1S/AQIXAKUUQRKLND-CJFCUXRANA-N/' to format 'inchi'\n",
      "Error converting InChIKey AQIXAKUUQRKLND-CJFCUXRANA-N: Failed to convert 'InChI=1S/AQIXAKUUQRKLND-CJFCUXRANA-N/' to format 'inchi'\n",
      "Error converting InChIKey AQIXAKUUQRKLND-CJFCUXRANA-N: Failed to convert 'InChI=1S/AQIXAKUUQRKLND-CJFCUXRANA-N/' to format 'inchi'\n",
      "Error converting InChIKey AQIXAKUUQRKLND-CJFCUXRANA-N: Failed to convert 'InChI=1S/AQIXAKUUQRKLND-CJFCUXRANA-N/' to format 'inchi'\n",
      "Error converting InChIKey AQIXAKUUQRKLND-CJFCUXRANA-N: Failed to convert 'InChI=1S/AQIXAKUUQRKLND-CJFCUXRANA-N/' to format 'inchi'\n",
      "Error converting InChIKey AQIXAKUUQRKLND-CJFCUXRANA-N: Failed to convert 'InChI=1S/AQIXAKUUQRKLND-CJFCUXRANA-N/' to format 'inchi'\n",
      "Error converting InChIKey AQIXAKUUQRKLND-CJFCUXRANA-N: Failed to convert 'InChI=1S/AQIXAKUUQRKLND-CJFCUXRANA-N/' to format 'inchi'\n",
      "Error converting InChIKey AQIXAKUUQRKLND-CJFCUXRANA-N: Failed to convert 'InChI=1S/AQIXAKUUQRKLND-CJFCUXRANA-N/' to format 'inchi'\n",
      "Error converting InChIKey AQIXAKUUQRKLND-CJFCUXRANA-N: Failed to convert 'InChI=1S/AQIXAKUUQRKLND-CJFCUXRANA-N/' to format 'inchi'\n",
      "Error converting InChIKey AQIXAKUUQRKLND-CJFCUXRANA-N: Failed to convert 'InChI=1S/AQIXAKUUQRKLND-CJFCUXRANA-N/' to format 'inchi'\n",
      "Error converting InChIKey AQIXAKUUQRKLND-CJFCUXRANA-N: Failed to convert 'InChI=1S/AQIXAKUUQRKLND-CJFCUXRANA-N/' to format 'inchi'\n",
      "Error converting InChIKey AQIXAKUUQRKLND-CJFCUXRANA-N: Failed to convert 'InChI=1S/AQIXAKUUQRKLND-CJFCUXRANA-N/' to format 'inchi'\n",
      "Error converting InChIKey AQIXAKUUQRKLND-CJFCUXRANA-N: Failed to convert 'InChI=1S/AQIXAKUUQRKLND-CJFCUXRANA-N/' to format 'inchi'\n",
      "Error converting InChIKey AQIXAKUUQRKLND-CJFCUXRANA-N: Failed to convert 'InChI=1S/AQIXAKUUQRKLND-CJFCUXRANA-N/' to format 'inchi'\n",
      "Error converting InChIKey MJIHNNLFOKEZEW-PKSOQXRJNA-N: Failed to convert 'InChI=1S/MJIHNNLFOKEZEW-PKSOQXRJNA-N/' to format 'inchi'\n",
      "Error converting InChIKey MJIHNNLFOKEZEW-PKSOQXRJNA-N: Failed to convert 'InChI=1S/MJIHNNLFOKEZEW-PKSOQXRJNA-N/' to format 'inchi'\n",
      "Error converting InChIKey MJIHNNLFOKEZEW-PKSOQXRJNA-N: Failed to convert 'InChI=1S/MJIHNNLFOKEZEW-PKSOQXRJNA-N/' to format 'inchi'\n",
      "Error converting InChIKey MJIHNNLFOKEZEW-PKSOQXRJNA-N: Failed to convert 'InChI=1S/MJIHNNLFOKEZEW-PKSOQXRJNA-N/' to format 'inchi'\n",
      "Error converting InChIKey MJIHNNLFOKEZEW-PKSOQXRJNA-N: Failed to convert 'InChI=1S/MJIHNNLFOKEZEW-PKSOQXRJNA-N/' to format 'inchi'\n",
      "Error converting InChIKey MJIHNNLFOKEZEW-PKSOQXRJNA-N: Failed to convert 'InChI=1S/MJIHNNLFOKEZEW-PKSOQXRJNA-N/' to format 'inchi'\n",
      "Error converting InChIKey MJIHNNLFOKEZEW-PKSOQXRJNA-N: Failed to convert 'InChI=1S/MJIHNNLFOKEZEW-PKSOQXRJNA-N/' to format 'inchi'\n",
      "Error converting InChIKey MJIHNNLFOKEZEW-PKSOQXRJNA-N: Failed to convert 'InChI=1S/MJIHNNLFOKEZEW-PKSOQXRJNA-N/' to format 'inchi'\n",
      "Error converting InChIKey ACWBQPMHZXGDFX-XGLYSIDGNA-N: Failed to convert 'InChI=1S/ACWBQPMHZXGDFX-XGLYSIDGNA-N/' to format 'inchi'\n",
      "Error converting InChIKey ACWBQPMHZXGDFX-XGLYSIDGNA-N: Failed to convert 'InChI=1S/ACWBQPMHZXGDFX-XGLYSIDGNA-N/' to format 'inchi'\n",
      "Error converting InChIKey ACWBQPMHZXGDFX-XGLYSIDGNA-N: Failed to convert 'InChI=1S/ACWBQPMHZXGDFX-XGLYSIDGNA-N/' to format 'inchi'\n",
      "Error converting InChIKey ACWBQPMHZXGDFX-XGLYSIDGNA-N: Failed to convert 'InChI=1S/ACWBQPMHZXGDFX-XGLYSIDGNA-N/' to format 'inchi'\n",
      "Error converting InChIKey AQIXAKUUQRKLND-CJFCUXRANA-N: Failed to convert 'InChI=1S/AQIXAKUUQRKLND-CJFCUXRANA-N/' to format 'inchi'\n",
      "Error converting InChIKey ACWBQPMHZXGDFX-XGLYSIDGNA-N: Failed to convert 'InChI=1S/ACWBQPMHZXGDFX-XGLYSIDGNA-N/' to format 'inchi'\n",
      "Conversion complete. The new file is 'resolved_smiles.csv'.\n"
     ]
    }
   ],
   "source": [
    "import pandas as pd\n",
    "from openbabel import pybel\n",
    "\n",
    "# Function to convert InChIKey to SMILES using OpenBabel\n",
    "def inchikey_to_smiles(inchikey):\n",
    "    try:\n",
    "        # Create an OpenBabel molecule from the InChIKey\n",
    "        mol = pybel.readstring(\"inchi\", f\"InChI=1S/{inchikey}/\")\n",
    "        \n",
    "        # Return the SMILES representation of the molecule\n",
    "        if mol:\n",
    "            return mol.write(\"smiles\").strip()\n",
    "        else:\n",
    "            return None  # Return None if InChIKey is not valid\n",
    "    except Exception as e:\n",
    "        # Return None if there's an error in conversion\n",
    "        print(f\"Error converting InChIKey {inchikey}: {e}\")\n",
    "        return None\n",
    "\n",
    "# Load the CSV file containing InChIKeys\n",
    "df = pd.read_csv('failed_smiles.csv')\n",
    "\n",
    "# Convert InChIKeys to SMILES (using the 'solute_inchikeys' column)\n",
    "df['solute_smiles'] = df['solute_inchikey'].apply(inchikey_to_smiles)\n",
    "\n",
    "# Drop rows where SMILES couldn't be retrieved (i.e., None)\n",
    "df = df.dropna(subset=['solute_smiles'])\n",
    "\n",
    "# Save the updated CSV file with the SMILES\n",
    "df.to_csv('resolved_smiles.csv', index=False)\n",
    "\n",
    "print(\"Conversion complete. The new file is 'resolved_smiles.csv'.\")\n"
   ]
  },
  {
   "cell_type": "code",
   "execution_count": null,
   "id": "8ac28e05-a0ec-48a4-807d-91d64a15727a",
   "metadata": {},
   "outputs": [],
   "source": []
  }
 ],
 "metadata": {
  "kernelspec": {
   "display_name": "Python (openbabel_env)",
   "language": "python",
   "name": "openbabel_env"
  },
  "language_info": {
   "codemirror_mode": {
    "name": "ipython",
    "version": 3
   },
   "file_extension": ".py",
   "mimetype": "text/x-python",
   "name": "python",
   "nbconvert_exporter": "python",
   "pygments_lexer": "ipython3",
   "version": "3.8.20"
  }
 },
 "nbformat": 4,
 "nbformat_minor": 5
}
